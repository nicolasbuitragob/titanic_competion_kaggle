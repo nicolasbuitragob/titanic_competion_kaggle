{
 "metadata": {
  "language_info": {
   "codemirror_mode": {
    "name": "ipython",
    "version": 3
   },
   "file_extension": ".py",
   "mimetype": "text/x-python",
   "name": "python",
   "nbconvert_exporter": "python",
   "pygments_lexer": "ipython3",
   "version": "3.8.5-final"
  },
  "orig_nbformat": 2,
  "kernelspec": {
   "name": "python38264bit408e1c5374c14f069c20c17d8b580d7a",
   "display_name": "Python 3.8.2 64-bit",
   "language": "python"
  }
 },
 "nbformat": 4,
 "nbformat_minor": 2,
 "cells": [
  {
   "source": [
    "##Second Vresion Titanic Kaggle Competetion"
   ],
   "cell_type": "markdown",
   "metadata": {}
  },
  {
   "cell_type": "code",
   "execution_count": 758,
   "metadata": {},
   "outputs": [],
   "source": [
    "import pandas as pd\n",
    "import numpy as np\n",
    "from sklearn.preprocessing import MinMaxScaler\n",
    "from sklearn.model_selection import train_test_split\n",
    "from sklearn.linear_model import LogisticRegression\n",
    "from sklearn.svm import SVC\n",
    "from sklearn.metrics import accuracy_score\n",
    "from sklearn.ensemble import GradientBoostingClassifier"
   ]
  },
  {
   "cell_type": "code",
   "execution_count": 759,
   "metadata": {},
   "outputs": [],
   "source": [
    "train_data = pd.read_csv('train.csv')"
   ]
  },
  {
   "cell_type": "code",
   "execution_count": 760,
   "metadata": {},
   "outputs": [],
   "source": [
    "def preProcessData(df):\n",
    "    scaler = MinMaxScaler()\n",
    "    Y = train_data['Survived']\n",
    "    train_data.drop(['PassengerId','Cabin','Survived','Ticket','Age'],axis = 1)\n",
    "    train_data['Name'] = train_data['Name'].str.split('.').str[0].str.split(',').str[1]\n",
    "    categorical_data = train_data[['Name','Sex','Embarked']]\n",
    "    non_categorical = train_data[['Pclass','Parch','SibSp','Fare']]\n",
    "    #Encoding non categorical data\n",
    "    for i in categorical_data.columns:\n",
    "        dumm = pd.get_dummies(categorical_data[i])\n",
    "        categorical_data = pd.concat([categorical_data,dumm],axis =1)\n",
    "        categorical_data = categorical_data.drop(str(i),axis = 1)\n",
    "    #Normalizing fare column\n",
    "    fareScaled = scaler.fit_transform(non_categorical['Fare'].values.reshape(-1,1))\n",
    "    df = pd.DataFrame(fareScaled)\n",
    "    df = pd.concat([df,categorical_data,non_categorical],axis = 1)\n",
    "    df.drop('Fare',axis = 1,inplace  = True)\n",
    "    df.rename(columns={0:'Fare'},inplace = True)\n",
    "    return df,Y\n",
    "\n"
   ]
  },
  {
   "cell_type": "code",
   "execution_count": 777,
   "metadata": {},
   "outputs": [],
   "source": [
    "X , Y = preProcessData(train_data)\n",
    "X_train, X_test, y_train, y_test = train_test_split(X,Y, random_state = 0,shuffle = True)\n",
    "\n",
    "\n"
   ]
  },
  {
   "cell_type": "code",
   "execution_count": 778,
   "metadata": {},
   "outputs": [],
   "source": [
    "svc = SVC()\n",
    "def Logistic_regression(X_train,y_train,X_test,y_test):\n",
    "    l_reg.fit(X_train,y_train)\n",
    "    score = l_reg.score(X_train,y_train)\n",
    "    prediction = l_reg.predict(X_test)\n",
    "    acc = accuracy_score(y_test,prediction)\n",
    "    print('accracy in test',acc)\n",
    "    print('accuracy in train',score)\n"
   ]
  },
  {
   "cell_type": "code",
   "execution_count": 779,
   "metadata": {},
   "outputs": [],
   "source": [
    "l_reg = LogisticRegression()\n",
    "def SVM(X_train,y_train,X_test,y_test):\n",
    "    svc.fit(X_train,y_train)\n",
    "    score = svc.score(X_train,y_train)\n",
    "    prediction = svc.predict(X_test)\n",
    "    acc = accuracy_score(y_test,prediction)\n",
    "    print('accuracy in test',acc)\n",
    "    print('accuracy in train',score)\n"
   ]
  },
  {
   "cell_type": "code",
   "execution_count": 786,
   "metadata": {},
   "outputs": [],
   "source": [
    "GBC = GradientBoostingClassifier(n_estimators=250, learning_rate=0.1)\n",
    "def XGC(X_train,y_train,X_test,y_test):\n",
    "    GBC.fit(X_train,y_train)\n",
    "    score = GBC.score(X_train,y_train)\n",
    "    prediction = GBC.predict(X_test)\n",
    "    acc = accuracy_score(y_test,prediction)\n",
    "    print('accuracy in test',acc)\n",
    "    print('accuracy in train',score)"
   ]
  },
  {
   "cell_type": "code",
   "execution_count": 787,
   "metadata": {},
   "outputs": [
    {
     "output_type": "stream",
     "name": "stdout",
     "text": [
      "accuracy in test 0.8071748878923767\naccuracy in train 0.905688622754491\n"
     ]
    }
   ],
   "source": [
    "XGC(X_train,y_train,X_test,y_test)"
   ]
  },
  {
   "cell_type": "code",
   "execution_count": 827,
   "metadata": {},
   "outputs": [],
   "source": [
    "from sklearn.neural_network import MLPClassifier\n",
    "def nn_classifer(X_train,y_train,X_test,y_test):\n",
    "    nn = MLPClassifier(hidden_layer_sizes=(100,20),activation='relu',solver = 'adam',max_iter = 500,alpha = 0.1)\n",
    "    nn.fit(X_train,y_train)\n",
    "    nn.score(X_train,y_train)\n",
    "    pred = nn.predict(X_test)\n",
    "    \n",
    "    acc = accuracy_score(y_test,pred)\n",
    "    print('accuracy in test',acc)\n",
    "    print('accuracy in train',score)"
   ]
  },
  {
   "cell_type": "code",
   "execution_count": 828,
   "metadata": {},
   "outputs": [
    {
     "output_type": "stream",
     "name": "stdout",
     "text": [
      "accuracy in test 0.8116591928251121\naccuracy in train 0.8398203592814372\n"
     ]
    }
   ],
   "source": [
    "nn_classifer(X_train,y_train,X_test,y_test)"
   ]
  },
  {
   "cell_type": "code",
   "execution_count": null,
   "metadata": {},
   "outputs": [],
   "source": []
  }
 ]
}