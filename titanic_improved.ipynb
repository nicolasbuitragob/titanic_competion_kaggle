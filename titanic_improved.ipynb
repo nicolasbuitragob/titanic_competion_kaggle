{
 "metadata": {
  "language_info": {
   "codemirror_mode": {
    "name": "ipython",
    "version": 3
   },
   "file_extension": ".py",
   "mimetype": "text/x-python",
   "name": "python",
   "nbconvert_exporter": "python",
   "pygments_lexer": "ipython3",
   "version": "3.8.5-final"
  },
  "orig_nbformat": 2,
  "kernelspec": {
   "name": "python38264bit408e1c5374c14f069c20c17d8b580d7a",
   "display_name": "Python 3.8.2 64-bit",
   "language": "python"
  }
 },
 "nbformat": 4,
 "nbformat_minor": 2,
 "cells": [
  {
   "source": [
    "##Second Vresion Titanic Kaggle Competetion"
   ],
   "cell_type": "markdown",
   "metadata": {}
  },
  {
   "cell_type": "code",
   "execution_count": 655,
   "metadata": {},
   "outputs": [],
   "source": [
    "import pandas as pd\n",
    "import numpy as np\n",
    "from sklearn.preprocessing import MinMaxScaler"
   ]
  },
  {
   "cell_type": "code",
   "execution_count": 656,
   "metadata": {},
   "outputs": [],
   "source": [
    "train_data = pd.read_csv('train.csv')"
   ]
  },
  {
   "cell_type": "code",
   "execution_count": 657,
   "metadata": {},
   "outputs": [],
   "source": [
    "def preProcessData(df):\n",
    "    scaler = MinMaxScaler()\n",
    "    Y = train_data['Survived']\n",
    "    train_data.drop(['PassengerId','Cabin','Survived','Ticket','Age'],axis = 1)\n",
    "    train_data['Name'] = train_data['Name'].str.split('.').str[0].str.split(',').str[1]\n",
    "    categorical_data = train_data[['Name','Sex','Embarked']]\n",
    "    non_categorical = train_data[['Pclass','Parch','SibSp','Fare']]\n",
    "    #Encoding non categorical data\n",
    "    for i in categorical_data.columns:\n",
    "        dumm = pd.get_dummies(categorical_data[i])\n",
    "        categorical_data = pd.concat([categorical_data,dumm],axis =1)\n",
    "        categorical_data = categorical_data.drop(str(i),axis = 1)\n",
    "    #Normalizing fare column\n",
    "    non_categorical_scaled = scaler.fit_transform(non_categorical['Fare'].values.reshape(-1,1))\n",
    "    df = pd.DataFrame(non_categorical_scaled)\n",
    "    \n",
    "\n",
    "    return df\n",
    "\n"
   ]
  },
  {
   "cell_type": "code",
   "execution_count": 658,
   "metadata": {},
   "outputs": [
    {
     "output_type": "execute_result",
     "data": {
      "text/plain": [
       "            0\n",
       "0    0.014151\n",
       "1    0.139136\n",
       "2    0.015469\n",
       "3    0.103644\n",
       "4    0.015713\n",
       "..        ...\n",
       "886  0.025374\n",
       "887  0.058556\n",
       "888  0.045771\n",
       "889  0.058556\n",
       "890  0.015127\n",
       "\n",
       "[891 rows x 1 columns]"
      ],
      "text/html": "<div>\n<style scoped>\n    .dataframe tbody tr th:only-of-type {\n        vertical-align: middle;\n    }\n\n    .dataframe tbody tr th {\n        vertical-align: top;\n    }\n\n    .dataframe thead th {\n        text-align: right;\n    }\n</style>\n<table border=\"1\" class=\"dataframe\">\n  <thead>\n    <tr style=\"text-align: right;\">\n      <th></th>\n      <th>0</th>\n    </tr>\n  </thead>\n  <tbody>\n    <tr>\n      <th>0</th>\n      <td>0.014151</td>\n    </tr>\n    <tr>\n      <th>1</th>\n      <td>0.139136</td>\n    </tr>\n    <tr>\n      <th>2</th>\n      <td>0.015469</td>\n    </tr>\n    <tr>\n      <th>3</th>\n      <td>0.103644</td>\n    </tr>\n    <tr>\n      <th>4</th>\n      <td>0.015713</td>\n    </tr>\n    <tr>\n      <th>...</th>\n      <td>...</td>\n    </tr>\n    <tr>\n      <th>886</th>\n      <td>0.025374</td>\n    </tr>\n    <tr>\n      <th>887</th>\n      <td>0.058556</td>\n    </tr>\n    <tr>\n      <th>888</th>\n      <td>0.045771</td>\n    </tr>\n    <tr>\n      <th>889</th>\n      <td>0.058556</td>\n    </tr>\n    <tr>\n      <th>890</th>\n      <td>0.015127</td>\n    </tr>\n  </tbody>\n</table>\n<p>891 rows × 1 columns</p>\n</div>"
     },
     "metadata": {},
     "execution_count": 658
    }
   ],
   "source": [
    "\n",
    "preProcessData(train_data)"
   ]
  },
  {
   "cell_type": "code",
   "execution_count": null,
   "metadata": {},
   "outputs": [],
   "source": []
  }
 ]
}