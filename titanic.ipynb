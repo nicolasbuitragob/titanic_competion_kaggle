{
 "metadata": {
  "language_info": {
   "codemirror_mode": {
    "name": "ipython",
    "version": 3
   },
   "file_extension": ".py",
   "mimetype": "text/x-python",
   "name": "python",
   "nbconvert_exporter": "python",
   "pygments_lexer": "ipython3",
   "version": "3.8.5-final"
  },
  "orig_nbformat": 2,
  "kernelspec": {
   "name": "python38264bit408e1c5374c14f069c20c17d8b580d7a",
   "display_name": "Python 3.8.2 64-bit"
  }
 },
 "nbformat": 4,
 "nbformat_minor": 2,
 "cells": [
  {
   "source": [
    "#TITANIC COMPETITION\n"
   ],
   "cell_type": "markdown",
   "metadata": {}
  },
  {
   "cell_type": "code",
   "execution_count": 205,
   "metadata": {},
   "outputs": [],
   "source": [
    "import pandas as pd\n",
    "import numpy as np\n",
    "import matplotlib.pyplot as plt\n",
    "import seaborn as sns\n",
    "from sklearn.preprocessing import LabelEncoder, MinMaxScaler\n",
    "from sklearn.linear_model import LogisticRegression, LinearRegression\n",
    "from sklearn.model_selection import train_test_split, cross_val_score,GridSearchCV, validation_curve\n",
    "from sklearn.svm import SVC, LinearSVC\n",
    "from sklearn.metrics import f1_score, precision_score,recall_score, precision_recall_curve,roc_curve,roc_auc_score,confusion_matrix,classification_report,accuracy_score\n",
    "from sklearn.tree import DecisionTreeClassifier\n",
    "from sklearn.ensemble import GradientBoostingClassifier, RandomForestClassifier\n"
   ]
  },
  {
   "cell_type": "code",
   "execution_count": 206,
   "metadata": {},
   "outputs": [],
   "source": [
    "df = pd.read_csv('train.csv')\n",
    "df['Sex'] = df['Sex'].replace(['female','male'],[0,1])\n",
    "df['Age'].fillna(method = 'pad',inplace = True)\n",
    "df.drop(['Cabin','Name','Ticket'],axis = 1 , inplace = True)\n",
    "df['Embarked'] = df['Embarked'].replace(['S','C','Q'],[1,2,3])\n",
    "df.dropna(inplace = True)\n",
    "X = df.iloc[:,2:]\n",
    "Y = df['Survived']"
   ]
  },
  {
   "cell_type": "code",
   "execution_count": 207,
   "metadata": {},
   "outputs": [],
   "source": [
    "##PREPARE DATA\n",
    "\n",
    "scaler = MinMaxScaler()\n",
    "X_scaled = scaler.fit_transform(X)\n",
    "X_train_scaled, X_test_scaled , y_train, y_test = train_test_split(X_scaled,Y,random_state = 0)\n",
    "X_train, X_test, y_train,y_test = train_test_split(X,Y,random_state = 0)"
   ]
  },
  {
   "cell_type": "code",
   "execution_count": 249,
   "metadata": {},
   "outputs": [
    {
     "output_type": "execute_result",
     "data": {
      "text/plain": [
       "[(LogisticRegression(), {'C': 3}, 0.8153742565368646, 0.7488789237668162),\n",
       " (SVC(),\n",
       "  {'C': 1, 'gamma': 5, 'kernel': 'rbf'},\n",
       "  0.834822129951745,\n",
       "  0.7847533632286996)]"
      ]
     },
     "metadata": {},
     "execution_count": 249
    }
   ],
   "source": [
    "results_scaled = []\n",
    "\n",
    "def bestmodel_scaled():\n",
    "    params_logistic = {'C' : [0.01,0.05,0.1,0.5,1,3,5,7]}\n",
    "    params_svm = {'C':[0.01,0.05,0.1,0.5,1,3,5],'gamma':[0.001,0.005,0.01,0.05,0.1,0.3,0.5,1,3,5],'kernel':['rbf','linear']}\n",
    "    parameters_scaled = [params_logistic,params_svm]\n",
    "    models_scaled = [LogisticRegression(),SVC()]\n",
    "    for model_sc,params_sc in zip(models_scaled,parameters_scaled):\n",
    "        final_model_sc = GridSearchCV(model_sc,params_sc,scoring= 'accuracy').fit(X_train_scaled,y_train)\n",
    "        prediction_scaled = final_model_sc.predict(X_test_scaled)\n",
    "        score_scaled = accuracy_score(prediction_scaled,y_test)\n",
    "        results_scaled.append((model_sc,final_model_sc.best_params_,final_model_sc.best_score_,score_scaled))\n",
    "\n",
    "    return results_scaled\n",
    "bestmodel_scaled()"
   ]
  },
  {
   "cell_type": "code",
   "execution_count": 250,
   "metadata": {},
   "outputs": [
    {
     "output_type": "execute_result",
     "data": {
      "text/plain": [
       "[(DecisionTreeClassifier(),\n",
       "  {'max_features': 5},\n",
       "  0.7957917181012232,\n",
       "  0.7488789237668162),\n",
       " (GradientBoostingClassifier(),\n",
       "  {'learning_rate': 0.1, 'n_estimators': 200},\n",
       "  0.8363595556054314,\n",
       "  0.7802690582959642),\n",
       " (RandomForestClassifier(),\n",
       "  {'n_estimators': 200},\n",
       "  0.8258332398159579,\n",
       "  0.7713004484304933)]"
      ]
     },
     "metadata": {},
     "execution_count": 250
    }
   ],
   "source": [
    "results = []\n",
    "def bestmodel():\n",
    "    params_tree = {'max_features':[3,5,7]}\n",
    "    params_grandientBoost = {'learning_rate':[0.01,0.05,0.1,0.5,1,2],'n_estimators':[100,150,200]}\n",
    "    params_randomForest = {'n_estimators':[100,150,200]}\n",
    "    parameters = [params_tree,params_grandientBoost,params_randomForest]\n",
    "    models = [DecisionTreeClassifier(),GradientBoostingClassifier(),RandomForestClassifier()]\n",
    "    for model,params in zip(models,parameters):\n",
    "        final_model = GridSearchCV(model,params,scoring='accuracy').fit(X_train,y_train)\n",
    "        prediction = final_model.predict(X_test)\n",
    "        score = accuracy_score(prediction,y_test)\n",
    "        results.append((model,final_model.best_params_,final_model.best_score_,score))\n",
    "\n",
    "    return results\n",
    "bestmodel()"
   ]
  },
  {
   "cell_type": "code",
   "execution_count": 248,
   "metadata": {},
   "outputs": [
    {
     "output_type": "execute_result",
     "data": {
      "text/plain": [
       "0.7802690582959642"
      ]
     },
     "metadata": {},
     "execution_count": 248
    }
   ],
   "source": [
    "final_model = GradientBoostingClassifier(learning_rate=0.1,n_estimators=200).fit(X_train,y_train)\n",
    "predict = final_model.predict(X_test)\n",
    "score = accuracy_score(y_test,predict)\n",
    "score"
   ]
  },
  {
   "cell_type": "code",
   "execution_count": 283,
   "metadata": {},
   "outputs": [],
   "source": [
    "test_data = pd.read_csv('test.csv')\n",
    "test_data['Sex'] = test_data['Sex'].replace(['female','male'],[0,1])\n",
    "test_data.fillna(method = 'pad',inplace = True)\n",
    "test_data.drop(['Cabin','Name','Ticket'],axis = 1 , inplace = True)\n",
    "test_data['Embarked'] = test_data['Embarked'].replace(['S','C','Q'],[1,2,3])\n",
    "#test_data.dropna(inplace = True)\n",
    "X_test_data = test_data.iloc[:,1:]\n",
    "final_pred = final_model.predict(X_test_data)\n"
   ]
  },
  {
   "cell_type": "code",
   "execution_count": 303,
   "metadata": {},
   "outputs": [
    {
     "output_type": "execute_result",
     "data": {
      "text/plain": [
       "     PassengerId  Survived\n",
       "0            892         0\n",
       "1            893         0\n",
       "2            894         0\n",
       "3            895         0\n",
       "4            896         0\n",
       "..           ...       ...\n",
       "413         1305         0\n",
       "414         1306         1\n",
       "415         1307         0\n",
       "416         1308         0\n",
       "417         1309         0\n",
       "\n",
       "[418 rows x 2 columns]"
      ],
      "text/html": "<div>\n<style scoped>\n    .dataframe tbody tr th:only-of-type {\n        vertical-align: middle;\n    }\n\n    .dataframe tbody tr th {\n        vertical-align: top;\n    }\n\n    .dataframe thead th {\n        text-align: right;\n    }\n</style>\n<table border=\"1\" class=\"dataframe\">\n  <thead>\n    <tr style=\"text-align: right;\">\n      <th></th>\n      <th>PassengerId</th>\n      <th>Survived</th>\n    </tr>\n  </thead>\n  <tbody>\n    <tr>\n      <th>0</th>\n      <td>892</td>\n      <td>0</td>\n    </tr>\n    <tr>\n      <th>1</th>\n      <td>893</td>\n      <td>0</td>\n    </tr>\n    <tr>\n      <th>2</th>\n      <td>894</td>\n      <td>0</td>\n    </tr>\n    <tr>\n      <th>3</th>\n      <td>895</td>\n      <td>0</td>\n    </tr>\n    <tr>\n      <th>4</th>\n      <td>896</td>\n      <td>0</td>\n    </tr>\n    <tr>\n      <th>...</th>\n      <td>...</td>\n      <td>...</td>\n    </tr>\n    <tr>\n      <th>413</th>\n      <td>1305</td>\n      <td>0</td>\n    </tr>\n    <tr>\n      <th>414</th>\n      <td>1306</td>\n      <td>1</td>\n    </tr>\n    <tr>\n      <th>415</th>\n      <td>1307</td>\n      <td>0</td>\n    </tr>\n    <tr>\n      <th>416</th>\n      <td>1308</td>\n      <td>0</td>\n    </tr>\n    <tr>\n      <th>417</th>\n      <td>1309</td>\n      <td>0</td>\n    </tr>\n  </tbody>\n</table>\n<p>418 rows × 2 columns</p>\n</div>"
     },
     "metadata": {},
     "execution_count": 303
    }
   ],
   "source": [
    "final_df = pd.DataFrame(test_data['PassengerId'])\n",
    "final_df['Survived'] = final_pred\n",
    "final_df"
   ]
  },
  {
   "cell_type": "code",
   "execution_count": 294,
   "metadata": {},
   "outputs": [
    {
     "output_type": "execute_result",
     "data": {
      "text/plain": [
       "     PassengerId  Survived\n",
       "0            892         0\n",
       "1            893         1\n",
       "2            894         0\n",
       "3            895         0\n",
       "4            896         1\n",
       "..           ...       ...\n",
       "413         1305         0\n",
       "414         1306         1\n",
       "415         1307         0\n",
       "416         1308         0\n",
       "417         1309         0\n",
       "\n",
       "[418 rows x 2 columns]"
      ],
      "text/html": "<div>\n<style scoped>\n    .dataframe tbody tr th:only-of-type {\n        vertical-align: middle;\n    }\n\n    .dataframe tbody tr th {\n        vertical-align: top;\n    }\n\n    .dataframe thead th {\n        text-align: right;\n    }\n</style>\n<table border=\"1\" class=\"dataframe\">\n  <thead>\n    <tr style=\"text-align: right;\">\n      <th></th>\n      <th>PassengerId</th>\n      <th>Survived</th>\n    </tr>\n  </thead>\n  <tbody>\n    <tr>\n      <th>0</th>\n      <td>892</td>\n      <td>0</td>\n    </tr>\n    <tr>\n      <th>1</th>\n      <td>893</td>\n      <td>1</td>\n    </tr>\n    <tr>\n      <th>2</th>\n      <td>894</td>\n      <td>0</td>\n    </tr>\n    <tr>\n      <th>3</th>\n      <td>895</td>\n      <td>0</td>\n    </tr>\n    <tr>\n      <th>4</th>\n      <td>896</td>\n      <td>1</td>\n    </tr>\n    <tr>\n      <th>...</th>\n      <td>...</td>\n      <td>...</td>\n    </tr>\n    <tr>\n      <th>413</th>\n      <td>1305</td>\n      <td>0</td>\n    </tr>\n    <tr>\n      <th>414</th>\n      <td>1306</td>\n      <td>1</td>\n    </tr>\n    <tr>\n      <th>415</th>\n      <td>1307</td>\n      <td>0</td>\n    </tr>\n    <tr>\n      <th>416</th>\n      <td>1308</td>\n      <td>0</td>\n    </tr>\n    <tr>\n      <th>417</th>\n      <td>1309</td>\n      <td>0</td>\n    </tr>\n  </tbody>\n</table>\n<p>418 rows × 2 columns</p>\n</div>"
     },
     "metadata": {},
     "execution_count": 294
    }
   ],
   "source": [
    "gender = pd.read_csv('gender_submission.csv')\n",
    "gender"
   ]
  },
  {
   "cell_type": "code",
   "execution_count": 304,
   "metadata": {},
   "outputs": [],
   "source": [
    "final_df.to_csv('my_submission.csv', index=False)"
   ]
  },
  {
   "cell_type": "code",
   "execution_count": null,
   "metadata": {},
   "outputs": [],
   "source": []
  }
 ]
}