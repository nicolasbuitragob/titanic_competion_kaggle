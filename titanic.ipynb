{
 "metadata": {
  "language_info": {
   "codemirror_mode": {
    "name": "ipython",
    "version": 3
   },
   "file_extension": ".py",
   "mimetype": "text/x-python",
   "name": "python",
   "nbconvert_exporter": "python",
   "pygments_lexer": "ipython3",
   "version": "3.8.5-final"
  },
  "orig_nbformat": 2,
  "kernelspec": {
   "name": "python38264bit408e1c5374c14f069c20c17d8b580d7a",
   "display_name": "Python 3.8.2 64-bit",
   "language": "python"
  }
 },
 "nbformat": 4,
 "nbformat_minor": 2,
 "cells": [
  {
   "cell_type": "code",
   "execution_count": 649,
   "metadata": {},
   "outputs": [],
   "source": [
    "import pandas as pd\n",
    "import numpy as np\n",
    "import matplotlib.pyplot as plt\n",
    "import seaborn as sns\n"
   ]
  },
  {
   "cell_type": "code",
   "execution_count": 650,
   "metadata": {},
   "outputs": [],
   "source": [
    "train = pd.read_csv('train.csv')\n",
    "Y = train['Survived']\n",
    "train.drop('Survived',axis=1,inplace = True)\n",
    "test = pd.read_csv('test.csv')"
   ]
  },
  {
   "cell_type": "code",
   "execution_count": 651,
   "metadata": {},
   "outputs": [],
   "source": [
    "def fill_nan(df):    \n",
    "    df['Age'] = df['Age'].fillna(df['Age'].mean())\n",
    "    df['Cabin'] = df['Cabin'].isna().astype(int)\n",
    "    df['Fare'] = df['Fare'].fillna(df['Fare'].mean())\n",
    "    df['Embarked'] = df['Embarked'].replace({'S':1,'C':2,'Q':3}).fillna('S')   \n",
    "    return df\n"
   ]
  },
  {
   "cell_type": "code",
   "execution_count": 652,
   "metadata": {},
   "outputs": [],
   "source": [
    "def get_title(df): \n",
    "    df['title'] = df['Name'].str.split(',',expand = True)[1].str.split('.',expand = True)[0]\n",
    "    mr_values =['Don','Rev','Dr','Major','Col','Capt','Jonkheer','Sir']\n",
    "    mrs_replace = ['Mme','Dona','the Countess','Mra','Lady']\n",
    "    miss_replace = ['Ms','Mlle']\n",
    "    df['title'] = df['title'].replace(mr_values,'Mr',regex = True)\n",
    "    df['title'] = df['title'].replace(mrs_replace,'Mrs',regex = True)\n",
    "    df['title'] = df['title'].replace(miss_replace,'Miss',regex = True)\n",
    "    return df\n"
   ]
  },
  {
   "cell_type": "code",
   "execution_count": 653,
   "metadata": {},
   "outputs": [],
   "source": [
    "def ticket(df):\n",
    "    df['Ticket'] = df['Ticket'].str.split(' ',expand = True)[0]\n",
    "    df['Ticket'] = df['Ticket'].astype('category').cat.codes\n",
    "    return df"
   ]
  },
  {
   "cell_type": "code",
   "execution_count": 654,
   "metadata": {},
   "outputs": [],
   "source": [
    "def family_members(df):\n",
    "    df['Family Size'] = df['Parch'] + df['SibSp']\n",
    "    df['withFamily'] = df['Family Size'].where(df['Family Size'] < 1,1)\n",
    "    return df"
   ]
  },
  {
   "cell_type": "code",
   "execution_count": 655,
   "metadata": {},
   "outputs": [],
   "source": [
    "def getDummies(df):\n",
    "    dummies_sex = pd.get_dummies(df['Sex'])\n",
    "    dummies_embarked = pd.get_dummies(df['Embarked'])\n",
    "    dummies_title = pd.get_dummies(df['title'])\n",
    "    dummies_Pclass = pd.get_dummies(df['Pclass'])\n",
    "    df = pd.concat([dummies_embarked,dummies_sex, dummies_title,dummies_Pclass],axis = 1)\n",
    "    return df"
   ]
  },
  {
   "cell_type": "code",
   "execution_count": 656,
   "metadata": {},
   "outputs": [],
   "source": [
    "def preProcess(df):\n",
    "    data = fill_nan(df)\n",
    "    data = get_title(data)\n",
    "    data = ticket(data)\n",
    "    data = family_members(data)\n",
    "    dummies = getDummies(data)\n",
    "    final_df = pd.concat([data,dummies],axis= 1)\n",
    "    final_df.drop(['Name','Sex','Pclass','Embarked','title'],inplace = True,axis = 1)\n",
    "    return final_df"
   ]
  },
  {
   "cell_type": "code",
   "execution_count": 657,
   "metadata": {},
   "outputs": [
    {
     "output_type": "execute_result",
     "data": {
      "text/plain": [
       "     PassengerId        Age  SibSp  Parch  Ticket     Fare  Cabin  \\\n",
       "0              1  22.000000      1      0     518   7.2500      1   \n",
       "1              2  38.000000      1      0     532  71.2833      0   \n",
       "2              3  26.000000      0      0     551   7.9250      1   \n",
       "3              4  35.000000      1      0      49  53.1000      0   \n",
       "4              5  35.000000      0      0     472   8.0500      1   \n",
       "..           ...        ...    ...    ...     ...      ...    ...   \n",
       "886          887  27.000000      0      0     101  13.0000      1   \n",
       "887          888  19.000000      0      0      14  30.0000      0   \n",
       "888          889  29.699118      1      2     553  23.4500      1   \n",
       "889          890  26.000000      0      0       8  30.0000      0   \n",
       "890          891  32.000000      0      0     466   7.7500      1   \n",
       "\n",
       "     Family Size  withFamily  1.0  ...  S  female  male   Master   Miss   Mr  \\\n",
       "0              1           1    1  ...  0       0     1        0      0    1   \n",
       "1              1           1    0  ...  0       1     0        0      0    0   \n",
       "2              0           0    1  ...  0       1     0        0      1    0   \n",
       "3              1           1    1  ...  0       1     0        0      0    0   \n",
       "4              0           0    1  ...  0       0     1        0      0    1   \n",
       "..           ...         ...  ...  ... ..     ...   ...      ...    ...  ...   \n",
       "886            0           0    1  ...  0       0     1        0      0    1   \n",
       "887            0           0    1  ...  0       1     0        0      1    0   \n",
       "888            3           1    1  ...  0       1     0        0      1    0   \n",
       "889            0           0    0  ...  0       0     1        0      0    1   \n",
       "890            0           0    0  ...  0       0     1        0      0    1   \n",
       "\n",
       "      Mrs  1  2  3  \n",
       "0       0  0  0  1  \n",
       "1       1  1  0  0  \n",
       "2       0  0  0  1  \n",
       "3       1  1  0  0  \n",
       "4       0  0  0  1  \n",
       "..    ... .. .. ..  \n",
       "886     0  0  1  0  \n",
       "887     0  1  0  0  \n",
       "888     0  0  0  1  \n",
       "889     0  1  0  0  \n",
       "890     0  0  0  1  \n",
       "\n",
       "[891 rows x 22 columns]"
      ],
      "text/html": "<div>\n<style scoped>\n    .dataframe tbody tr th:only-of-type {\n        vertical-align: middle;\n    }\n\n    .dataframe tbody tr th {\n        vertical-align: top;\n    }\n\n    .dataframe thead th {\n        text-align: right;\n    }\n</style>\n<table border=\"1\" class=\"dataframe\">\n  <thead>\n    <tr style=\"text-align: right;\">\n      <th></th>\n      <th>PassengerId</th>\n      <th>Age</th>\n      <th>SibSp</th>\n      <th>Parch</th>\n      <th>Ticket</th>\n      <th>Fare</th>\n      <th>Cabin</th>\n      <th>Family Size</th>\n      <th>withFamily</th>\n      <th>1.0</th>\n      <th>...</th>\n      <th>S</th>\n      <th>female</th>\n      <th>male</th>\n      <th>Master</th>\n      <th>Miss</th>\n      <th>Mr</th>\n      <th>Mrs</th>\n      <th>1</th>\n      <th>2</th>\n      <th>3</th>\n    </tr>\n  </thead>\n  <tbody>\n    <tr>\n      <th>0</th>\n      <td>1</td>\n      <td>22.000000</td>\n      <td>1</td>\n      <td>0</td>\n      <td>518</td>\n      <td>7.2500</td>\n      <td>1</td>\n      <td>1</td>\n      <td>1</td>\n      <td>1</td>\n      <td>...</td>\n      <td>0</td>\n      <td>0</td>\n      <td>1</td>\n      <td>0</td>\n      <td>0</td>\n      <td>1</td>\n      <td>0</td>\n      <td>0</td>\n      <td>0</td>\n      <td>1</td>\n    </tr>\n    <tr>\n      <th>1</th>\n      <td>2</td>\n      <td>38.000000</td>\n      <td>1</td>\n      <td>0</td>\n      <td>532</td>\n      <td>71.2833</td>\n      <td>0</td>\n      <td>1</td>\n      <td>1</td>\n      <td>0</td>\n      <td>...</td>\n      <td>0</td>\n      <td>1</td>\n      <td>0</td>\n      <td>0</td>\n      <td>0</td>\n      <td>0</td>\n      <td>1</td>\n      <td>1</td>\n      <td>0</td>\n      <td>0</td>\n    </tr>\n    <tr>\n      <th>2</th>\n      <td>3</td>\n      <td>26.000000</td>\n      <td>0</td>\n      <td>0</td>\n      <td>551</td>\n      <td>7.9250</td>\n      <td>1</td>\n      <td>0</td>\n      <td>0</td>\n      <td>1</td>\n      <td>...</td>\n      <td>0</td>\n      <td>1</td>\n      <td>0</td>\n      <td>0</td>\n      <td>1</td>\n      <td>0</td>\n      <td>0</td>\n      <td>0</td>\n      <td>0</td>\n      <td>1</td>\n    </tr>\n    <tr>\n      <th>3</th>\n      <td>4</td>\n      <td>35.000000</td>\n      <td>1</td>\n      <td>0</td>\n      <td>49</td>\n      <td>53.1000</td>\n      <td>0</td>\n      <td>1</td>\n      <td>1</td>\n      <td>1</td>\n      <td>...</td>\n      <td>0</td>\n      <td>1</td>\n      <td>0</td>\n      <td>0</td>\n      <td>0</td>\n      <td>0</td>\n      <td>1</td>\n      <td>1</td>\n      <td>0</td>\n      <td>0</td>\n    </tr>\n    <tr>\n      <th>4</th>\n      <td>5</td>\n      <td>35.000000</td>\n      <td>0</td>\n      <td>0</td>\n      <td>472</td>\n      <td>8.0500</td>\n      <td>1</td>\n      <td>0</td>\n      <td>0</td>\n      <td>1</td>\n      <td>...</td>\n      <td>0</td>\n      <td>0</td>\n      <td>1</td>\n      <td>0</td>\n      <td>0</td>\n      <td>1</td>\n      <td>0</td>\n      <td>0</td>\n      <td>0</td>\n      <td>1</td>\n    </tr>\n    <tr>\n      <th>...</th>\n      <td>...</td>\n      <td>...</td>\n      <td>...</td>\n      <td>...</td>\n      <td>...</td>\n      <td>...</td>\n      <td>...</td>\n      <td>...</td>\n      <td>...</td>\n      <td>...</td>\n      <td>...</td>\n      <td>...</td>\n      <td>...</td>\n      <td>...</td>\n      <td>...</td>\n      <td>...</td>\n      <td>...</td>\n      <td>...</td>\n      <td>...</td>\n      <td>...</td>\n      <td>...</td>\n    </tr>\n    <tr>\n      <th>886</th>\n      <td>887</td>\n      <td>27.000000</td>\n      <td>0</td>\n      <td>0</td>\n      <td>101</td>\n      <td>13.0000</td>\n      <td>1</td>\n      <td>0</td>\n      <td>0</td>\n      <td>1</td>\n      <td>...</td>\n      <td>0</td>\n      <td>0</td>\n      <td>1</td>\n      <td>0</td>\n      <td>0</td>\n      <td>1</td>\n      <td>0</td>\n      <td>0</td>\n      <td>1</td>\n      <td>0</td>\n    </tr>\n    <tr>\n      <th>887</th>\n      <td>888</td>\n      <td>19.000000</td>\n      <td>0</td>\n      <td>0</td>\n      <td>14</td>\n      <td>30.0000</td>\n      <td>0</td>\n      <td>0</td>\n      <td>0</td>\n      <td>1</td>\n      <td>...</td>\n      <td>0</td>\n      <td>1</td>\n      <td>0</td>\n      <td>0</td>\n      <td>1</td>\n      <td>0</td>\n      <td>0</td>\n      <td>1</td>\n      <td>0</td>\n      <td>0</td>\n    </tr>\n    <tr>\n      <th>888</th>\n      <td>889</td>\n      <td>29.699118</td>\n      <td>1</td>\n      <td>2</td>\n      <td>553</td>\n      <td>23.4500</td>\n      <td>1</td>\n      <td>3</td>\n      <td>1</td>\n      <td>1</td>\n      <td>...</td>\n      <td>0</td>\n      <td>1</td>\n      <td>0</td>\n      <td>0</td>\n      <td>1</td>\n      <td>0</td>\n      <td>0</td>\n      <td>0</td>\n      <td>0</td>\n      <td>1</td>\n    </tr>\n    <tr>\n      <th>889</th>\n      <td>890</td>\n      <td>26.000000</td>\n      <td>0</td>\n      <td>0</td>\n      <td>8</td>\n      <td>30.0000</td>\n      <td>0</td>\n      <td>0</td>\n      <td>0</td>\n      <td>0</td>\n      <td>...</td>\n      <td>0</td>\n      <td>0</td>\n      <td>1</td>\n      <td>0</td>\n      <td>0</td>\n      <td>1</td>\n      <td>0</td>\n      <td>1</td>\n      <td>0</td>\n      <td>0</td>\n    </tr>\n    <tr>\n      <th>890</th>\n      <td>891</td>\n      <td>32.000000</td>\n      <td>0</td>\n      <td>0</td>\n      <td>466</td>\n      <td>7.7500</td>\n      <td>1</td>\n      <td>0</td>\n      <td>0</td>\n      <td>0</td>\n      <td>...</td>\n      <td>0</td>\n      <td>0</td>\n      <td>1</td>\n      <td>0</td>\n      <td>0</td>\n      <td>1</td>\n      <td>0</td>\n      <td>0</td>\n      <td>0</td>\n      <td>1</td>\n    </tr>\n  </tbody>\n</table>\n<p>891 rows × 22 columns</p>\n</div>"
     },
     "metadata": {},
     "execution_count": 657
    }
   ],
   "source": [
    "preProcess(train)"
   ]
  },
  {
   "cell_type": "code",
   "execution_count": 658,
   "metadata": {},
   "outputs": [
    {
     "output_type": "execute_result",
     "data": {
      "text/plain": [
       "     PassengerId       Age  SibSp  Parch  Ticket      Fare  Cabin  \\\n",
       "0            892  34.50000      0      0     152    7.8292      1   \n",
       "1            893  47.00000      1      0     221    7.0000      1   \n",
       "2            894  62.00000      0      0      73    9.6875      1   \n",
       "3            895  27.00000      0      0     147    8.6625      1   \n",
       "4            896  22.00000      1      1     138   12.2875      1   \n",
       "..           ...       ...    ...    ...     ...       ...    ...   \n",
       "413         1305  30.27259      0      0     267    8.0500      1   \n",
       "414         1306  39.00000      0      0     280  108.9000      0   \n",
       "415         1307  38.50000      0      0     291    7.2500      1   \n",
       "416         1308  30.27259      0      0     220    8.0500      1   \n",
       "417         1309  30.27259      1      1     105   22.3583      1   \n",
       "\n",
       "     Family Size  withFamily  1  ...  3  female  male   Master   Miss   Mr  \\\n",
       "0              0           0  0  ...  1       0     1        0      0    1   \n",
       "1              1           1  1  ...  0       1     0        0      0    0   \n",
       "2              0           0  0  ...  1       0     1        0      0    1   \n",
       "3              0           0  1  ...  0       0     1        0      0    1   \n",
       "4              2           1  1  ...  0       1     0        0      0    0   \n",
       "..           ...         ... ..  ... ..     ...   ...      ...    ...  ...   \n",
       "413            0           0  1  ...  0       0     1        0      0    1   \n",
       "414            0           0  0  ...  0       1     0        0      0    0   \n",
       "415            0           0  1  ...  0       0     1        0      0    1   \n",
       "416            0           0  1  ...  0       0     1        0      0    1   \n",
       "417            2           1  0  ...  0       0     1        1      0    0   \n",
       "\n",
       "      Mrs  1  2  3  \n",
       "0       0  0  0  1  \n",
       "1       1  0  0  1  \n",
       "2       0  0  1  0  \n",
       "3       0  0  0  1  \n",
       "4       1  0  0  1  \n",
       "..    ... .. .. ..  \n",
       "413     0  0  0  1  \n",
       "414     1  1  0  0  \n",
       "415     0  0  0  1  \n",
       "416     0  0  0  1  \n",
       "417     0  0  0  1  \n",
       "\n",
       "[418 rows x 21 columns]"
      ],
      "text/html": "<div>\n<style scoped>\n    .dataframe tbody tr th:only-of-type {\n        vertical-align: middle;\n    }\n\n    .dataframe tbody tr th {\n        vertical-align: top;\n    }\n\n    .dataframe thead th {\n        text-align: right;\n    }\n</style>\n<table border=\"1\" class=\"dataframe\">\n  <thead>\n    <tr style=\"text-align: right;\">\n      <th></th>\n      <th>PassengerId</th>\n      <th>Age</th>\n      <th>SibSp</th>\n      <th>Parch</th>\n      <th>Ticket</th>\n      <th>Fare</th>\n      <th>Cabin</th>\n      <th>Family Size</th>\n      <th>withFamily</th>\n      <th>1</th>\n      <th>...</th>\n      <th>3</th>\n      <th>female</th>\n      <th>male</th>\n      <th>Master</th>\n      <th>Miss</th>\n      <th>Mr</th>\n      <th>Mrs</th>\n      <th>1</th>\n      <th>2</th>\n      <th>3</th>\n    </tr>\n  </thead>\n  <tbody>\n    <tr>\n      <th>0</th>\n      <td>892</td>\n      <td>34.50000</td>\n      <td>0</td>\n      <td>0</td>\n      <td>152</td>\n      <td>7.8292</td>\n      <td>1</td>\n      <td>0</td>\n      <td>0</td>\n      <td>0</td>\n      <td>...</td>\n      <td>1</td>\n      <td>0</td>\n      <td>1</td>\n      <td>0</td>\n      <td>0</td>\n      <td>1</td>\n      <td>0</td>\n      <td>0</td>\n      <td>0</td>\n      <td>1</td>\n    </tr>\n    <tr>\n      <th>1</th>\n      <td>893</td>\n      <td>47.00000</td>\n      <td>1</td>\n      <td>0</td>\n      <td>221</td>\n      <td>7.0000</td>\n      <td>1</td>\n      <td>1</td>\n      <td>1</td>\n      <td>1</td>\n      <td>...</td>\n      <td>0</td>\n      <td>1</td>\n      <td>0</td>\n      <td>0</td>\n      <td>0</td>\n      <td>0</td>\n      <td>1</td>\n      <td>0</td>\n      <td>0</td>\n      <td>1</td>\n    </tr>\n    <tr>\n      <th>2</th>\n      <td>894</td>\n      <td>62.00000</td>\n      <td>0</td>\n      <td>0</td>\n      <td>73</td>\n      <td>9.6875</td>\n      <td>1</td>\n      <td>0</td>\n      <td>0</td>\n      <td>0</td>\n      <td>...</td>\n      <td>1</td>\n      <td>0</td>\n      <td>1</td>\n      <td>0</td>\n      <td>0</td>\n      <td>1</td>\n      <td>0</td>\n      <td>0</td>\n      <td>1</td>\n      <td>0</td>\n    </tr>\n    <tr>\n      <th>3</th>\n      <td>895</td>\n      <td>27.00000</td>\n      <td>0</td>\n      <td>0</td>\n      <td>147</td>\n      <td>8.6625</td>\n      <td>1</td>\n      <td>0</td>\n      <td>0</td>\n      <td>1</td>\n      <td>...</td>\n      <td>0</td>\n      <td>0</td>\n      <td>1</td>\n      <td>0</td>\n      <td>0</td>\n      <td>1</td>\n      <td>0</td>\n      <td>0</td>\n      <td>0</td>\n      <td>1</td>\n    </tr>\n    <tr>\n      <th>4</th>\n      <td>896</td>\n      <td>22.00000</td>\n      <td>1</td>\n      <td>1</td>\n      <td>138</td>\n      <td>12.2875</td>\n      <td>1</td>\n      <td>2</td>\n      <td>1</td>\n      <td>1</td>\n      <td>...</td>\n      <td>0</td>\n      <td>1</td>\n      <td>0</td>\n      <td>0</td>\n      <td>0</td>\n      <td>0</td>\n      <td>1</td>\n      <td>0</td>\n      <td>0</td>\n      <td>1</td>\n    </tr>\n    <tr>\n      <th>...</th>\n      <td>...</td>\n      <td>...</td>\n      <td>...</td>\n      <td>...</td>\n      <td>...</td>\n      <td>...</td>\n      <td>...</td>\n      <td>...</td>\n      <td>...</td>\n      <td>...</td>\n      <td>...</td>\n      <td>...</td>\n      <td>...</td>\n      <td>...</td>\n      <td>...</td>\n      <td>...</td>\n      <td>...</td>\n      <td>...</td>\n      <td>...</td>\n      <td>...</td>\n      <td>...</td>\n    </tr>\n    <tr>\n      <th>413</th>\n      <td>1305</td>\n      <td>30.27259</td>\n      <td>0</td>\n      <td>0</td>\n      <td>267</td>\n      <td>8.0500</td>\n      <td>1</td>\n      <td>0</td>\n      <td>0</td>\n      <td>1</td>\n      <td>...</td>\n      <td>0</td>\n      <td>0</td>\n      <td>1</td>\n      <td>0</td>\n      <td>0</td>\n      <td>1</td>\n      <td>0</td>\n      <td>0</td>\n      <td>0</td>\n      <td>1</td>\n    </tr>\n    <tr>\n      <th>414</th>\n      <td>1306</td>\n      <td>39.00000</td>\n      <td>0</td>\n      <td>0</td>\n      <td>280</td>\n      <td>108.9000</td>\n      <td>0</td>\n      <td>0</td>\n      <td>0</td>\n      <td>0</td>\n      <td>...</td>\n      <td>0</td>\n      <td>1</td>\n      <td>0</td>\n      <td>0</td>\n      <td>0</td>\n      <td>0</td>\n      <td>1</td>\n      <td>1</td>\n      <td>0</td>\n      <td>0</td>\n    </tr>\n    <tr>\n      <th>415</th>\n      <td>1307</td>\n      <td>38.50000</td>\n      <td>0</td>\n      <td>0</td>\n      <td>291</td>\n      <td>7.2500</td>\n      <td>1</td>\n      <td>0</td>\n      <td>0</td>\n      <td>1</td>\n      <td>...</td>\n      <td>0</td>\n      <td>0</td>\n      <td>1</td>\n      <td>0</td>\n      <td>0</td>\n      <td>1</td>\n      <td>0</td>\n      <td>0</td>\n      <td>0</td>\n      <td>1</td>\n    </tr>\n    <tr>\n      <th>416</th>\n      <td>1308</td>\n      <td>30.27259</td>\n      <td>0</td>\n      <td>0</td>\n      <td>220</td>\n      <td>8.0500</td>\n      <td>1</td>\n      <td>0</td>\n      <td>0</td>\n      <td>1</td>\n      <td>...</td>\n      <td>0</td>\n      <td>0</td>\n      <td>1</td>\n      <td>0</td>\n      <td>0</td>\n      <td>1</td>\n      <td>0</td>\n      <td>0</td>\n      <td>0</td>\n      <td>1</td>\n    </tr>\n    <tr>\n      <th>417</th>\n      <td>1309</td>\n      <td>30.27259</td>\n      <td>1</td>\n      <td>1</td>\n      <td>105</td>\n      <td>22.3583</td>\n      <td>1</td>\n      <td>2</td>\n      <td>1</td>\n      <td>0</td>\n      <td>...</td>\n      <td>0</td>\n      <td>0</td>\n      <td>1</td>\n      <td>1</td>\n      <td>0</td>\n      <td>0</td>\n      <td>0</td>\n      <td>0</td>\n      <td>0</td>\n      <td>1</td>\n    </tr>\n  </tbody>\n</table>\n<p>418 rows × 21 columns</p>\n</div>"
     },
     "metadata": {},
     "execution_count": 658
    }
   ],
   "source": [
    "preProcess(test)"
   ]
  },
  {
   "cell_type": "code",
   "execution_count": null,
   "metadata": {},
   "outputs": [],
   "source": []
  },
  {
   "cell_type": "code",
   "execution_count": null,
   "metadata": {},
   "outputs": [],
   "source": []
  },
  {
   "cell_type": "code",
   "execution_count": null,
   "metadata": {},
   "outputs": [],
   "source": []
  }
 ]
}