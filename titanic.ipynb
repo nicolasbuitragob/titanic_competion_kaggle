{
 "metadata": {
  "language_info": {
   "codemirror_mode": {
    "name": "ipython",
    "version": 3
   },
   "file_extension": ".py",
   "mimetype": "text/x-python",
   "name": "python",
   "nbconvert_exporter": "python",
   "pygments_lexer": "ipython3",
   "version": "3.8.5-final"
  },
  "orig_nbformat": 2,
  "kernelspec": {
   "name": "python38264bit408e1c5374c14f069c20c17d8b580d7a",
   "display_name": "Python 3.8.2 64-bit",
   "language": "python"
  }
 },
 "nbformat": 4,
 "nbformat_minor": 2,
 "cells": [
  {
   "cell_type": "code",
   "execution_count": 206,
   "metadata": {},
   "outputs": [],
   "source": [
    "import pandas as pd\n",
    "import numpy as np\n",
    "import matplotlib.pyplot as plt\n",
    "import seaborn as sns\n"
   ]
  },
  {
   "cell_type": "code",
   "execution_count": 215,
   "metadata": {},
   "outputs": [],
   "source": [
    "train = pd.read_csv('train.csv')\n",
    "test = pd.read_csv('test.csv')"
   ]
  },
  {
   "cell_type": "code",
   "execution_count": 218,
   "metadata": {},
   "outputs": [],
   "source": [
    "def fill_nan(x):    \n",
    "    x['Age'] = x['Age'].fillna(x['Age'].mean())\n",
    "    x['Cabin'] = x['Cabin'].isna().astype(int)\n",
    "    x['Fare'] =x['Fare'].fillna(x['Fare'].mean())\n",
    "    x['Embarked'] = x['Embarked'].replace({'S':1,'C':2,'Q':3}).fillna(1)\n",
    "    return x "
   ]
  },
  {
   "cell_type": "code",
   "execution_count": 272,
   "metadata": {},
   "outputs": [],
   "source": [
    "def get_title(x): \n",
    "    x['title'] = x['Name'].str.split(',',expand = True)[1].str.split('.',expand = True)[0]\n",
    "    values_s = x['title'].unique()\n",
    "    mr_values = ['Don','Rev','Dr','Major','Sir','Col','Capt','Jonkheer']\n",
    "    title_list = []\n",
    "    for title in x['title']:\n",
    "        if title in mr_values:\n",
    "            title_list.append('mr')\n",
    "        else:\n",
    "            print('whyyyyyyy')\n",
    "        #if title == 'Mr':\n",
    "            #print(type(title))\n",
    "    return title_list\n",
    "    ##dataset['title'] = dataset['title'].replace(['Mme','Lady'],'Mrs')\n",
    "    #dataset['title'] = dataset['title'].replace(['Ms','Mlle'],'Miss')\n",
    "\n"
   ]
  },
  {
   "cell_type": "code",
   "execution_count": 273,
   "metadata": {},
   "outputs": [
    {
     "output_type": "stream",
     "name": "stdout",
     "text": [
      "whyyyyyyy\nwhyyyyyyy\nwhyyyyyyy\nwhyyyyyyy\nwhyyyyyyy\nwhyyyyyyy\nwhyyyyyyy\nwhyyyyyyy\nwhyyyyyyy\nwhyyyyyyy\nwhyyyyyyy\nwhyyyyyyy\nwhyyyyyyy\nwhyyyyyyy\nwhyyyyyyy\nwhyyyyyyy\nwhyyyyyyy\nwhyyyyyyy\nwhyyyyyyy\nwhyyyyyyy\nwhyyyyyyy\nwhyyyyyyy\nwhyyyyyyy\nwhyyyyyyy\nwhyyyyyyy\nwhyyyyyyy\nwhyyyyyyy\nwhyyyyyyy\nwhyyyyyyy\nwhyyyyyyy\nwhyyyyyyy\nwhyyyyyyy\nwhyyyyyyy\nwhyyyyyyy\nwhyyyyyyy\nwhyyyyyyy\nwhyyyyyyy\nwhyyyyyyy\nwhyyyyyyy\nwhyyyyyyy\nwhyyyyyyy\nwhyyyyyyy\nwhyyyyyyy\nwhyyyyyyy\nwhyyyyyyy\nwhyyyyyyy\nwhyyyyyyy\nwhyyyyyyy\nwhyyyyyyy\nwhyyyyyyy\nwhyyyyyyy\nwhyyyyyyy\nwhyyyyyyy\nwhyyyyyyy\nwhyyyyyyy\nwhyyyyyyy\nwhyyyyyyy\nwhyyyyyyy\nwhyyyyyyy\nwhyyyyyyy\nwhyyyyyyy\nwhyyyyyyy\nwhyyyyyyy\nwhyyyyyyy\nwhyyyyyyy\nwhyyyyyyy\nwhyyyyyyy\nwhyyyyyyy\nwhyyyyyyy\nwhyyyyyyy\nwhyyyyyyy\nwhyyyyyyy\nwhyyyyyyy\nwhyyyyyyy\nwhyyyyyyy\nwhyyyyyyy\nwhyyyyyyy\nwhyyyyyyy\nwhyyyyyyy\nwhyyyyyyy\nwhyyyyyyy\nwhyyyyyyy\nwhyyyyyyy\nwhyyyyyyy\nwhyyyyyyy\nwhyyyyyyy\nwhyyyyyyy\nwhyyyyyyy\nwhyyyyyyy\nwhyyyyyyy\nwhyyyyyyy\nwhyyyyyyy\nwhyyyyyyy\nwhyyyyyyy\nwhyyyyyyy\nwhyyyyyyy\nwhyyyyyyy\nwhyyyyyyy\nwhyyyyyyy\nwhyyyyyyy\nwhyyyyyyy\nwhyyyyyyy\nwhyyyyyyy\nwhyyyyyyy\nwhyyyyyyy\nwhyyyyyyy\nwhyyyyyyy\nwhyyyyyyy\nwhyyyyyyy\nwhyyyyyyy\nwhyyyyyyy\nwhyyyyyyy\nwhyyyyyyy\nwhyyyyyyy\nwhyyyyyyy\nwhyyyyyyy\nwhyyyyyyy\nwhyyyyyyy\nwhyyyyyyy\nwhyyyyyyy\nwhyyyyyyy\nwhyyyyyyy\nwhyyyyyyy\nwhyyyyyyy\nwhyyyyyyy\nwhyyyyyyy\nwhyyyyyyy\nwhyyyyyyy\nwhyyyyyyy\nwhyyyyyyy\nwhyyyyyyy\nwhyyyyyyy\nwhyyyyyyy\nwhyyyyyyy\nwhyyyyyyy\nwhyyyyyyy\nwhyyyyyyy\nwhyyyyyyy\nwhyyyyyyy\nwhyyyyyyy\nwhyyyyyyy\nwhyyyyyyy\nwhyyyyyyy\nwhyyyyyyy\nwhyyyyyyy\nwhyyyyyyy\nwhyyyyyyy\nwhyyyyyyy\nwhyyyyyyy\nwhyyyyyyy\nwhyyyyyyy\nwhyyyyyyy\nwhyyyyyyy\nwhyyyyyyy\nwhyyyyyyy\nwhyyyyyyy\nwhyyyyyyy\nwhyyyyyyy\nwhyyyyyyy\nwhyyyyyyy\nwhyyyyyyy\nwhyyyyyyy\nwhyyyyyyy\nwhyyyyyyy\nwhyyyyyyy\nwhyyyyyyy\nwhyyyyyyy\nwhyyyyyyy\nwhyyyyyyy\nwhyyyyyyy\nwhyyyyyyy\nwhyyyyyyy\nwhyyyyyyy\nwhyyyyyyy\nwhyyyyyyy\nwhyyyyyyy\nwhyyyyyyy\nwhyyyyyyy\nwhyyyyyyy\nwhyyyyyyy\nwhyyyyyyy\nwhyyyyyyy\nwhyyyyyyy\nwhyyyyyyy\nwhyyyyyyy\nwhyyyyyyy\nwhyyyyyyy\nwhyyyyyyy\nwhyyyyyyy\nwhyyyyyyy\nwhyyyyyyy\nwhyyyyyyy\nwhyyyyyyy\nwhyyyyyyy\nwhyyyyyyy\nwhyyyyyyy\nwhyyyyyyy\nwhyyyyyyy\nwhyyyyyyy\nwhyyyyyyy\nwhyyyyyyy\nwhyyyyyyy\nwhyyyyyyy\nwhyyyyyyy\nwhyyyyyyy\nwhyyyyyyy\nwhyyyyyyy\nwhyyyyyyy\nwhyyyyyyy\nwhyyyyyyy\nwhyyyyyyy\nwhyyyyyyy\nwhyyyyyyy\nwhyyyyyyy\nwhyyyyyyy\nwhyyyyyyy\nwhyyyyyyy\nwhyyyyyyy\nwhyyyyyyy\nwhyyyyyyy\nwhyyyyyyy\nwhyyyyyyy\nwhyyyyyyy\nwhyyyyyyy\nwhyyyyyyy\nwhyyyyyyy\nwhyyyyyyy\nwhyyyyyyy\nwhyyyyyyy\nwhyyyyyyy\nwhyyyyyyy\nwhyyyyyyy\nwhyyyyyyy\nwhyyyyyyy\nwhyyyyyyy\nwhyyyyyyy\nwhyyyyyyy\nwhyyyyyyy\nwhyyyyyyy\nwhyyyyyyy\nwhyyyyyyy\nwhyyyyyyy\nwhyyyyyyy\nwhyyyyyyy\nwhyyyyyyy\nwhyyyyyyy\nwhyyyyyyy\nwhyyyyyyy\nwhyyyyyyy\nwhyyyyyyy\nwhyyyyyyy\nwhyyyyyyy\nwhyyyyyyy\nwhyyyyyyy\nwhyyyyyyy\nwhyyyyyyy\nwhyyyyyyy\nwhyyyyyyy\nwhyyyyyyy\nwhyyyyyyy\nwhyyyyyyy\nwhyyyyyyy\nwhyyyyyyy\nwhyyyyyyy\nwhyyyyyyy\nwhyyyyyyy\nwhyyyyyyy\nwhyyyyyyy\nwhyyyyyyy\nwhyyyyyyy\nwhyyyyyyy\nwhyyyyyyy\nwhyyyyyyy\nwhyyyyyyy\nwhyyyyyyy\nwhyyyyyyy\nwhyyyyyyy\nwhyyyyyyy\nwhyyyyyyy\nwhyyyyyyy\nwhyyyyyyy\nwhyyyyyyy\nwhyyyyyyy\nwhyyyyyyy\nwhyyyyyyy\nwhyyyyyyy\nwhyyyyyyy\nwhyyyyyyy\nwhyyyyyyy\nwhyyyyyyy\nwhyyyyyyy\nwhyyyyyyy\nwhyyyyyyy\nwhyyyyyyy\nwhyyyyyyy\nwhyyyyyyy\nwhyyyyyyy\nwhyyyyyyy\nwhyyyyyyy\nwhyyyyyyy\nwhyyyyyyy\nwhyyyyyyy\nwhyyyyyyy\nwhyyyyyyy\nwhyyyyyyy\nwhyyyyyyy\nwhyyyyyyy\nwhyyyyyyy\nwhyyyyyyy\nwhyyyyyyy\nwhyyyyyyy\nwhyyyyyyy\nwhyyyyyyy\nwhyyyyyyy\nwhyyyyyyy\nwhyyyyyyy\nwhyyyyyyy\nwhyyyyyyy\nwhyyyyyyy\nwhyyyyyyy\nwhyyyyyyy\nwhyyyyyyy\nwhyyyyyyy\nwhyyyyyyy\nwhyyyyyyy\nwhyyyyyyy\nwhyyyyyyy\nwhyyyyyyy\nwhyyyyyyy\nwhyyyyyyy\nwhyyyyyyy\nwhyyyyyyy\nwhyyyyyyy\nwhyyyyyyy\nwhyyyyyyy\nwhyyyyyyy\nwhyyyyyyy\nwhyyyyyyy\nwhyyyyyyy\nwhyyyyyyy\nwhyyyyyyy\nwhyyyyyyy\nwhyyyyyyy\nwhyyyyyyy\nwhyyyyyyy\nwhyyyyyyy\nwhyyyyyyy\nwhyyyyyyy\nwhyyyyyyy\nwhyyyyyyy\nwhyyyyyyy\nwhyyyyyyy\nwhyyyyyyy\nwhyyyyyyy\nwhyyyyyyy\nwhyyyyyyy\nwhyyyyyyy\nwhyyyyyyy\nwhyyyyyyy\nwhyyyyyyy\nwhyyyyyyy\nwhyyyyyyy\nwhyyyyyyy\nwhyyyyyyy\nwhyyyyyyy\nwhyyyyyyy\nwhyyyyyyy\nwhyyyyyyy\nwhyyyyyyy\nwhyyyyyyy\nwhyyyyyyy\nwhyyyyyyy\nwhyyyyyyy\nwhyyyyyyy\nwhyyyyyyy\nwhyyyyyyy\nwhyyyyyyy\nwhyyyyyyy\nwhyyyyyyy\nwhyyyyyyy\nwhyyyyyyy\nwhyyyyyyy\nwhyyyyyyy\nwhyyyyyyy\nwhyyyyyyy\nwhyyyyyyy\nwhyyyyyyy\nwhyyyyyyy\nwhyyyyyyy\nwhyyyyyyy\nwhyyyyyyy\nwhyyyyyyy\nwhyyyyyyy\nwhyyyyyyy\nwhyyyyyyy\nwhyyyyyyy\nwhyyyyyyy\nwhyyyyyyy\nwhyyyyyyy\nwhyyyyyyy\nwhyyyyyyy\nwhyyyyyyy\nwhyyyyyyy\nwhyyyyyyy\nwhyyyyyyy\nwhyyyyyyy\nwhyyyyyyy\nwhyyyyyyy\nwhyyyyyyy\nwhyyyyyyy\nwhyyyyyyy\nwhyyyyyyy\nwhyyyyyyy\nwhyyyyyyy\nwhyyyyyyy\nwhyyyyyyy\nwhyyyyyyy\nwhyyyyyyy\nwhyyyyyyy\nwhyyyyyyy\nwhyyyyyyy\nwhyyyyyyy\nwhyyyyyyy\nwhyyyyyyy\nwhyyyyyyy\nwhyyyyyyy\nwhyyyyyyy\nwhyyyyyyy\nwhyyyyyyy\nwhyyyyyyy\nwhyyyyyyy\nwhyyyyyyy\nwhyyyyyyy\nwhyyyyyyy\nwhyyyyyyy\nwhyyyyyyy\nwhyyyyyyy\nwhyyyyyyy\nwhyyyyyyy\nwhyyyyyyy\nwhyyyyyyy\nwhyyyyyyy\nwhyyyyyyy\nwhyyyyyyy\nwhyyyyyyy\nwhyyyyyyy\nwhyyyyyyy\nwhyyyyyyy\nwhyyyyyyy\nwhyyyyyyy\nwhyyyyyyy\nwhyyyyyyy\nwhyyyyyyy\nwhyyyyyyy\nwhyyyyyyy\nwhyyyyyyy\nwhyyyyyyy\nwhyyyyyyy\nwhyyyyyyy\nwhyyyyyyy\nwhyyyyyyy\nwhyyyyyyy\nwhyyyyyyy\nwhyyyyyyy\nwhyyyyyyy\nwhyyyyyyy\nwhyyyyyyy\nwhyyyyyyy\nwhyyyyyyy\nwhyyyyyyy\nwhyyyyyyy\nwhyyyyyyy\nwhyyyyyyy\nwhyyyyyyy\nwhyyyyyyy\nwhyyyyyyy\nwhyyyyyyy\nwhyyyyyyy\nwhyyyyyyy\nwhyyyyyyy\nwhyyyyyyy\nwhyyyyyyy\nwhyyyyyyy\nwhyyyyyyy\nwhyyyyyyy\nwhyyyyyyy\nwhyyyyyyy\nwhyyyyyyy\nwhyyyyyyy\nwhyyyyyyy\nwhyyyyyyy\nwhyyyyyyy\nwhyyyyyyy\nwhyyyyyyy\nwhyyyyyyy\nwhyyyyyyy\nwhyyyyyyy\nwhyyyyyyy\nwhyyyyyyy\nwhyyyyyyy\nwhyyyyyyy\nwhyyyyyyy\nwhyyyyyyy\nwhyyyyyyy\nwhyyyyyyy\nwhyyyyyyy\nwhyyyyyyy\nwhyyyyyyy\nwhyyyyyyy\nwhyyyyyyy\nwhyyyyyyy\nwhyyyyyyy\nwhyyyyyyy\nwhyyyyyyy\nwhyyyyyyy\nwhyyyyyyy\nwhyyyyyyy\nwhyyyyyyy\nwhyyyyyyy\nwhyyyyyyy\nwhyyyyyyy\nwhyyyyyyy\nwhyyyyyyy\nwhyyyyyyy\nwhyyyyyyy\nwhyyyyyyy\nwhyyyyyyy\nwhyyyyyyy\nwhyyyyyyy\nwhyyyyyyy\nwhyyyyyyy\nwhyyyyyyy\nwhyyyyyyy\nwhyyyyyyy\nwhyyyyyyy\nwhyyyyyyy\nwhyyyyyyy\nwhyyyyyyy\nwhyyyyyyy\nwhyyyyyyy\nwhyyyyyyy\nwhyyyyyyy\nwhyyyyyyy\nwhyyyyyyy\nwhyyyyyyy\nwhyyyyyyy\nwhyyyyyyy\nwhyyyyyyy\nwhyyyyyyy\nwhyyyyyyy\nwhyyyyyyy\nwhyyyyyyy\nwhyyyyyyy\nwhyyyyyyy\nwhyyyyyyy\nwhyyyyyyy\nwhyyyyyyy\nwhyyyyyyy\nwhyyyyyyy\nwhyyyyyyy\nwhyyyyyyy\nwhyyyyyyy\nwhyyyyyyy\nwhyyyyyyy\nwhyyyyyyy\nwhyyyyyyy\nwhyyyyyyy\nwhyyyyyyy\nwhyyyyyyy\nwhyyyyyyy\nwhyyyyyyy\nwhyyyyyyy\nwhyyyyyyy\nwhyyyyyyy\nwhyyyyyyy\nwhyyyyyyy\nwhyyyyyyy\nwhyyyyyyy\nwhyyyyyyy\nwhyyyyyyy\nwhyyyyyyy\nwhyyyyyyy\nwhyyyyyyy\nwhyyyyyyy\nwhyyyyyyy\nwhyyyyyyy\nwhyyyyyyy\nwhyyyyyyy\nwhyyyyyyy\nwhyyyyyyy\nwhyyyyyyy\nwhyyyyyyy\nwhyyyyyyy\nwhyyyyyyy\nwhyyyyyyy\nwhyyyyyyy\nwhyyyyyyy\nwhyyyyyyy\nwhyyyyyyy\nwhyyyyyyy\nwhyyyyyyy\nwhyyyyyyy\nwhyyyyyyy\nwhyyyyyyy\nwhyyyyyyy\nwhyyyyyyy\nwhyyyyyyy\nwhyyyyyyy\nwhyyyyyyy\nwhyyyyyyy\nwhyyyyyyy\nwhyyyyyyy\nwhyyyyyyy\nwhyyyyyyy\nwhyyyyyyy\nwhyyyyyyy\nwhyyyyyyy\nwhyyyyyyy\nwhyyyyyyy\nwhyyyyyyy\nwhyyyyyyy\nwhyyyyyyy\nwhyyyyyyy\nwhyyyyyyy\nwhyyyyyyy\nwhyyyyyyy\nwhyyyyyyy\nwhyyyyyyy\nwhyyyyyyy\nwhyyyyyyy\nwhyyyyyyy\nwhyyyyyyy\nwhyyyyyyy\nwhyyyyyyy\nwhyyyyyyy\nwhyyyyyyy\nwhyyyyyyy\nwhyyyyyyy\nwhyyyyyyy\nwhyyyyyyy\nwhyyyyyyy\nwhyyyyyyy\nwhyyyyyyy\nwhyyyyyyy\nwhyyyyyyy\nwhyyyyyyy\nwhyyyyyyy\nwhyyyyyyy\nwhyyyyyyy\nwhyyyyyyy\nwhyyyyyyy\nwhyyyyyyy\nwhyyyyyyy\nwhyyyyyyy\nwhyyyyyyy\nwhyyyyyyy\nwhyyyyyyy\nwhyyyyyyy\nwhyyyyyyy\nwhyyyyyyy\nwhyyyyyyy\nwhyyyyyyy\nwhyyyyyyy\nwhyyyyyyy\nwhyyyyyyy\nwhyyyyyyy\nwhyyyyyyy\nwhyyyyyyy\nwhyyyyyyy\nwhyyyyyyy\nwhyyyyyyy\nwhyyyyyyy\nwhyyyyyyy\nwhyyyyyyy\nwhyyyyyyy\nwhyyyyyyy\nwhyyyyyyy\nwhyyyyyyy\nwhyyyyyyy\nwhyyyyyyy\nwhyyyyyyy\nwhyyyyyyy\nwhyyyyyyy\nwhyyyyyyy\nwhyyyyyyy\nwhyyyyyyy\nwhyyyyyyy\nwhyyyyyyy\nwhyyyyyyy\nwhyyyyyyy\nwhyyyyyyy\nwhyyyyyyy\nwhyyyyyyy\nwhyyyyyyy\nwhyyyyyyy\nwhyyyyyyy\nwhyyyyyyy\nwhyyyyyyy\nwhyyyyyyy\nwhyyyyyyy\nwhyyyyyyy\nwhyyyyyyy\nwhyyyyyyy\nwhyyyyyyy\nwhyyyyyyy\nwhyyyyyyy\nwhyyyyyyy\nwhyyyyyyy\nwhyyyyyyy\nwhyyyyyyy\nwhyyyyyyy\nwhyyyyyyy\nwhyyyyyyy\nwhyyyyyyy\nwhyyyyyyy\nwhyyyyyyy\nwhyyyyyyy\nwhyyyyyyy\nwhyyyyyyy\nwhyyyyyyy\nwhyyyyyyy\nwhyyyyyyy\nwhyyyyyyy\nwhyyyyyyy\nwhyyyyyyy\nwhyyyyyyy\nwhyyyyyyy\nwhyyyyyyy\nwhyyyyyyy\nwhyyyyyyy\nwhyyyyyyy\nwhyyyyyyy\nwhyyyyyyy\nwhyyyyyyy\nwhyyyyyyy\nwhyyyyyyy\nwhyyyyyyy\nwhyyyyyyy\nwhyyyyyyy\nwhyyyyyyy\nwhyyyyyyy\nwhyyyyyyy\nwhyyyyyyy\nwhyyyyyyy\nwhyyyyyyy\nwhyyyyyyy\nwhyyyyyyy\nwhyyyyyyy\nwhyyyyyyy\nwhyyyyyyy\nwhyyyyyyy\nwhyyyyyyy\nwhyyyyyyy\nwhyyyyyyy\nwhyyyyyyy\nwhyyyyyyy\nwhyyyyyyy\nwhyyyyyyy\nwhyyyyyyy\nwhyyyyyyy\nwhyyyyyyy\nwhyyyyyyy\nwhyyyyyyy\nwhyyyyyyy\nwhyyyyyyy\nwhyyyyyyy\nwhyyyyyyy\nwhyyyyyyy\nwhyyyyyyy\nwhyyyyyyy\nwhyyyyyyy\nwhyyyyyyy\nwhyyyyyyy\nwhyyyyyyy\nwhyyyyyyy\nwhyyyyyyy\nwhyyyyyyy\nwhyyyyyyy\nwhyyyyyyy\nwhyyyyyyy\nwhyyyyyyy\nwhyyyyyyy\nwhyyyyyyy\nwhyyyyyyy\nwhyyyyyyy\nwhyyyyyyy\nwhyyyyyyy\nwhyyyyyyy\nwhyyyyyyy\nwhyyyyyyy\nwhyyyyyyy\nwhyyyyyyy\nwhyyyyyyy\nwhyyyyyyy\nwhyyyyyyy\nwhyyyyyyy\nwhyyyyyyy\nwhyyyyyyy\nwhyyyyyyy\nwhyyyyyyy\nwhyyyyyyy\nwhyyyyyyy\nwhyyyyyyy\nwhyyyyyyy\nwhyyyyyyy\nwhyyyyyyy\nwhyyyyyyy\nwhyyyyyyy\nwhyyyyyyy\nwhyyyyyyy\nwhyyyyyyy\nwhyyyyyyy\nwhyyyyyyy\nwhyyyyyyy\nwhyyyyyyy\nwhyyyyyyy\nwhyyyyyyy\nwhyyyyyyy\nwhyyyyyyy\nwhyyyyyyy\nwhyyyyyyy\nwhyyyyyyy\nwhyyyyyyy\nwhyyyyyyy\nwhyyyyyyy\nwhyyyyyyy\nwhyyyyyyy\nwhyyyyyyy\nwhyyyyyyy\nwhyyyyyyy\nwhyyyyyyy\nwhyyyyyyy\nwhyyyyyyy\nwhyyyyyyy\nwhyyyyyyy\nwhyyyyyyy\nwhyyyyyyy\nwhyyyyyyy\nwhyyyyyyy\nwhyyyyyyy\nwhyyyyyyy\nwhyyyyyyy\nwhyyyyyyy\nwhyyyyyyy\nwhyyyyyyy\nwhyyyyyyy\nwhyyyyyyy\nwhyyyyyyy\nwhyyyyyyy\nwhyyyyyyy\nwhyyyyyyy\nwhyyyyyyy\nwhyyyyyyy\nwhyyyyyyy\nwhyyyyyyy\nwhyyyyyyy\nwhyyyyyyy\nwhyyyyyyy\nwhyyyyyyy\nwhyyyyyyy\nwhyyyyyyy\nwhyyyyyyy\nwhyyyyyyy\nwhyyyyyyy\nwhyyyyyyy\nwhyyyyyyy\nwhyyyyyyy\nwhyyyyyyy\nwhyyyyyyy\nwhyyyyyyy\nwhyyyyyyy\nwhyyyyyyy\nwhyyyyyyy\nwhyyyyyyy\nwhyyyyyyy\nwhyyyyyyy\nwhyyyyyyy\nwhyyyyyyy\nwhyyyyyyy\nwhyyyyyyy\nwhyyyyyyy\nwhyyyyyyy\nwhyyyyyyy\nwhyyyyyyy\nwhyyyyyyy\nwhyyyyyyy\nwhyyyyyyy\nwhyyyyyyy\nwhyyyyyyy\nwhyyyyyyy\nwhyyyyyyy\n"
     ]
    },
    {
     "output_type": "execute_result",
     "data": {
      "text/plain": [
       "[]"
      ]
     },
     "metadata": {},
     "execution_count": 273
    }
   ],
   "source": [
    "get_title(train_data)"
   ]
  },
  {
   "cell_type": "code",
   "execution_count": null,
   "metadata": {},
   "outputs": [],
   "source": []
  }
 ]
}