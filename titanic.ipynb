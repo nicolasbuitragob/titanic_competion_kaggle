{
 "metadata": {
  "language_info": {
   "codemirror_mode": {
    "name": "ipython",
    "version": 3
   },
   "file_extension": ".py",
   "mimetype": "text/x-python",
   "name": "python",
   "nbconvert_exporter": "python",
   "pygments_lexer": "ipython3",
   "version": "3.8.5-final"
  },
  "orig_nbformat": 2,
  "kernelspec": {
   "name": "python38264bit408e1c5374c14f069c20c17d8b580d7a",
   "display_name": "Python 3.8.2 64-bit",
   "language": "python"
  }
 },
 "nbformat": 4,
 "nbformat_minor": 2,
 "cells": [
  {
   "cell_type": "code",
   "execution_count": 848,
   "metadata": {},
   "outputs": [],
   "source": [
    "import pandas as pd\n",
    "import numpy as np\n",
    "import matplotlib.pyplot as plt\n",
    "import seaborn as sns\n"
   ]
  },
  {
   "cell_type": "code",
   "execution_count": 918,
   "metadata": {},
   "outputs": [],
   "source": [
    "train = pd.read_csv('train.csv')\n",
    "Y = train['Survived']\n",
    "train.drop('Survived',axis=1,inplace = True)\n",
    "test = pd.read_csv('test.csv')\n",
    "test['Id'] = test['PassengerId']"
   ]
  },
  {
   "cell_type": "code",
   "execution_count": 898,
   "metadata": {},
   "outputs": [],
   "source": [
    "def fill_nan(df):    \n",
    "    df['Age'] = df['Age'].fillna(df['Age'].mean())\n",
    "    df['Cabin'] = df['Cabin'].isna().astype(int)\n",
    "    df['Fare'] = df['Fare'].fillna(df['Fare'].mean())\n",
    "    df['Embarked'] = df['Embarked'].replace({'S':1,'C':2,'Q':3}).fillna(1)   \n",
    "    return df\n"
   ]
  },
  {
   "cell_type": "code",
   "execution_count": 899,
   "metadata": {},
   "outputs": [],
   "source": [
    "def get_title(df): \n",
    "    df['title'] = df['Name'].str.split(',',expand = True)[1].str.split('.',expand = True)[0]\n",
    "    mr_values =['Don','Rev','Dr','Major','Col','Capt','Jonkheer','Sir']\n",
    "    mrs_replace = ['Mme','Dona','the Countess','Mra','Lady']\n",
    "    miss_replace = ['Ms','Mlle']\n",
    "    df['title'] = df['title'].replace(mr_values,'Mr',regex = True)\n",
    "    df['title'] = df['title'].replace(mrs_replace,'Mrs',regex = True)\n",
    "    df['title'] = df['title'].replace(miss_replace,'Miss',regex = True)\n",
    "    return df\n"
   ]
  },
  {
   "cell_type": "code",
   "execution_count": 900,
   "metadata": {},
   "outputs": [],
   "source": [
    "def ticket(df):\n",
    "    df['Ticket'] = df['Ticket'].str.split(' ',expand = True)[0]\n",
    "    df['Ticket'] = df['Ticket'].astype('category').cat.codes\n",
    "    return df"
   ]
  },
  {
   "cell_type": "code",
   "execution_count": 901,
   "metadata": {},
   "outputs": [],
   "source": [
    "def family_members(df):\n",
    "    df['Family Size'] = df['Parch'] + df['SibSp']\n",
    "    df['withFamily'] = df['Family Size'].where(df['Family Size'] < 1,1)\n",
    "    return df"
   ]
  },
  {
   "cell_type": "code",
   "execution_count": 902,
   "metadata": {},
   "outputs": [],
   "source": [
    "def getDummies(df):\n",
    "    dummies_sex = pd.get_dummies(df['Sex'])\n",
    "    dummies_embarked = pd.get_dummies(df['Embarked'])\n",
    "    dummies_title = pd.get_dummies(df['title'])\n",
    "    dummies_Pclass = pd.get_dummies(df['Pclass'])\n",
    "    df = pd.concat([dummies_embarked,dummies_sex, dummies_title,dummies_Pclass],axis = 1)\n",
    "    #df = pd.concat([dummies_sex, dummies_title,dummies_Pclass],axis = 1)\n",
    "    return df"
   ]
  },
  {
   "cell_type": "code",
   "execution_count": 903,
   "metadata": {},
   "outputs": [],
   "source": [
    "def preProcess(df):\n",
    "    data = fill_nan(df)\n",
    "    data = get_title(data)\n",
    "    data = ticket(data)\n",
    "    data = family_members(data)\n",
    "    dummies = getDummies(data)\n",
    "    final_df = pd.concat([data,dummies],axis= 1)\n",
    "    final_df.drop(['Name','Sex','Pclass','Embarked','title','PassengerId'],inplace = True,axis = 1)\n",
    "    #final_df.drop(['Name','Sex','Pclass','title'],inplace = True,axis = 1)\n",
    "    return final_df"
   ]
  },
  {
   "cell_type": "code",
   "execution_count": 904,
   "metadata": {},
   "outputs": [],
   "source": [
    "train_data  = preProcess(train)\n",
    "test_data = preProcess(test)"
   ]
  },
  {
   "cell_type": "code",
   "execution_count": 905,
   "metadata": {},
   "outputs": [],
   "source": [
    "from sklearn.ensemble import GradientBoostingClassifier, RandomForestClassifier, AdaBoostClassifier\n",
    "from sklearn.tree import DecisionTreeClassifier\n",
    "from sklearn.metrics import accuracy_score\n",
    "from sklearn.model_selection import train_test_split,cross_val_score, GridSearchCV"
   ]
  },
  {
   "cell_type": "code",
   "execution_count": 906,
   "metadata": {},
   "outputs": [],
   "source": [
    "X_train, X_test, y_train,y_test = train_test_split(train_data, Y,random_state = 0,test_size = 0.10)"
   ]
  },
  {
   "cell_type": "code",
   "execution_count": 917,
   "metadata": {},
   "outputs": [
    {
     "output_type": "stream",
     "name": "stdout",
     "text": [
      "0.8639200998751561\n0.8444444444444444\n[0.80745342 0.8        0.8375     0.81875    0.85      ]\n"
     ]
    }
   ],
   "source": [
    "def gradient_boost_model(X_train,y_train,X_test,y_test):\n",
    "    gbc = GradientBoostingClassifier(learning_rate=0.01,subsample = 0.3,max_features = 7,n_estimators =500).fit(X_train,y_train)\n",
    "    train_score = gbc.score(X_train,y_train)\n",
    "    prediction = gbc.predict(X_test)\n",
    "    test_score = accuracy_score(y_test,prediction)\n",
    "    cross_val_scores = cross_val_score(gbc,X_train,y_train, cv = 5)\n",
    "    print(train_score)\n",
    "    print(test_score)\n",
    "    print(cross_val_scores)\n",
    "gradient_boost_model(X_train,y_train,X_test,y_test)\n",
    "\n",
    "#{'learning_rate': 0.1, 'max_features': 7, 'n_estimators': 300, 'subsample': 1}"
   ]
  },
  {
   "cell_type": "code",
   "execution_count": 908,
   "metadata": {},
   "outputs": [
    {
     "output_type": "stream",
     "name": "stdout",
     "text": [
      "0.9463171036204744\n0.8444444444444444\n[0.81987578 0.81875    0.8375     0.81875    0.84375   ]\n"
     ]
    }
   ],
   "source": [
    "def random_forest_model(X_train,y_train, X_test,y_test):\n",
    "    rf = RandomForestClassifier(n_estimators= 1500,max_features=1,max_depth=10).fit(X_train,y_train)\n",
    "    train_score = rf.score(X_train,y_train)\n",
    "    prediction =rf.predict(X_test)\n",
    "    test_score = accuracy_score(y_test,prediction)\n",
    "    cross_val_scores = cross_val_score(rf,X_train,y_train, cv = 5)\n",
    "    print(train_score)\n",
    "    print(test_score)\n",
    "    print(cross_val_scores)\n",
    "random_forest_model(X_train,y_train,X_test,y_test)"
   ]
  },
  {
   "cell_type": "code",
   "execution_count": 915,
   "metadata": {},
   "outputs": [
    {
     "output_type": "stream",
     "name": "stdout",
     "text": [
      "0.8451935081148564\n0.8888888888888888\n[0.81987578 0.80625    0.825      0.81875    0.84375   ]\n"
     ]
    }
   ],
   "source": [
    "def ada_boost_model(X_train,y_train,X_test,y_test):\n",
    "    ada = AdaBoostClassifier(n_estimators = 35,learning_rate = 1).fit(X_train,y_train)\n",
    "    train_score = ada.score(X_train,y_train)\n",
    "    prediction = ada.predict(X_test)\n",
    "    test_score = accuracy_score(y_test,prediction)\n",
    "    cross_val_scores = cross_val_score(ada, X_train,y_train,cv = 5)\n",
    "    print(train_score)\n",
    "    print(test_score)\n",
    "    print(cross_val_scores)\n",
    "ada_boost_model(X_train,y_train,X_test,y_test)"
   ]
  },
  {
   "cell_type": "code",
   "execution_count": 890,
   "metadata": {},
   "outputs": [
    {
     "output_type": "stream",
     "name": "stdout",
     "text": [
      "0.9650436953807741\n0.8116591928251121\n{'learning_rate': 0.1, 'max_features': 7, 'n_estimators': 300, 'subsample': 1}\n"
     ]
    }
   ],
   "source": [
    "param_grid = {'learning_rate':[0.001,0.01,0.05,0.08,0.1],'subsample': [0.3,0.5,0.8,1],'n_estimators':[300,500,800,1500],'max_features':[6,7,8,9,10]}\n",
    "model = GradientBoostingClassifier()\n",
    "def grid_searchCV(param_grid,model,X_train,y_train,X_test,y_test):\n",
    "    gs = GridSearchCV(model,param_grid).fit(X_train,y_train)\n",
    "    prediction = gs.predict(X_test)\n",
    "    train_score = gs.score(X_train,y_train)\n",
    "    test_accuracy = accuracy_score(y_test,prediction)\n",
    "    best_params = gs.best_params_\n",
    "    print(train_score)\n",
    "    print(test_score)\n",
    "    print(best_params)\n",
    "grid_searchCV(param_grid,model,X_train,y_train,X_test,y_test)\n"
   ]
  },
  {
   "cell_type": "code",
   "execution_count": null,
   "metadata": {},
   "outputs": [],
   "source": []
  },
  {
   "cell_type": "code",
   "execution_count": null,
   "metadata": {},
   "outputs": [],
   "source": []
  }
 ]
}